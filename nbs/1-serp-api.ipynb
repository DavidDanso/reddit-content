{
 "cells": [
  {
   "cell_type": "code",
   "execution_count": 10,
   "id": "8bdb003c",
   "metadata": {},
   "outputs": [
    {
     "data": {
      "text/plain": [
       "True"
      ]
     },
     "execution_count": 10,
     "metadata": {},
     "output_type": "execute_result"
    }
   ],
   "source": [
    "import os\n",
    "import io\n",
    "import contextlib\n",
    "from dotenv import load_dotenv\n",
    "\n",
    "load_dotenv()"
   ]
  },
  {
   "cell_type": "code",
   "execution_count": 11,
   "id": "2cf1cfd7",
   "metadata": {},
   "outputs": [],
   "source": [
    "BRIGHT_DATA_SERP_API_KEY = os.environ.get(\"BRIGHT_DATA_SERP_API_KEY\")\n",
    "assert BRIGHT_DATA_SERP_API_KEY is not None"
   ]
  },
  {
   "cell_type": "code",
   "execution_count": 12,
   "id": "636c6446-51bc-4f85-899f-e5dd6de48772",
   "metadata": {},
   "outputs": [],
   "source": [
    "from langchain_brightdata import BrightDataSERP\n",
    "\n",
    "serp_tool = BrightDataSERP(bright_data_api_key=BRIGHT_DATA_SERP_API_KEY, parse_results = True)"
   ]
  },
  {
   "cell_type": "code",
   "execution_count": 13,
   "id": "9ca35a75-b4b0-439a-ad33-82507dc9b8e9",
   "metadata": {},
   "outputs": [],
   "source": [
    "buf = io.StringIO()\n",
    "\n",
    "with contextlib.redirect_stdout(buf):\n",
    "    results_data = serp_tool.invoke(\"Top 5 reddit communities for python\")"
   ]
  },
  {
   "cell_type": "code",
   "execution_count": 7,
   "id": "89d6e219",
   "metadata": {},
   "outputs": [],
   "source": [
    "import json\n",
    "data = json.loads(results_data)"
   ]
  },
  {
   "cell_type": "code",
   "execution_count": 14,
   "id": "b891f9cb",
   "metadata": {},
   "outputs": [
    {
     "name": "stdout",
     "output_type": "stream",
     "text": [
      "Looking for a Python subreddit for non-beginners https://www.reddit.com/r/Python/comments/hy1wxg/looking_for_a_python_subreddit_for_nonbeginners/ 170+ comments · 5 years ago\n",
      "----------\n",
      "5 Subreddits That Will Help You Learn Python - We Are Xena https://wearexena.com/5-subreddits-that-will-help-you-learn-python/ https://wearexena.com › 5-subreddits-that-will-help-you...\n",
      "----------\n",
      "5 Subreddits Every Pythonista Needs to Know https://python.plainenglish.io/5-subreddits-every-pythonista-needs-to-know-a58117949856 https://python.plainenglish.io › 5-subreddits-every-pyth...\n",
      "----------\n",
      "Best subreddits for sharing your project | by Tereza Tizkova https://tereza-tizkova.medium.com/best-subreddits-for-sharing-your-project-517c433442f9 60+ likes · 1 year ago\n",
      "----------\n",
      "r/learnpython Wiki: Learn Python Resources https://www.reddit.com/r/learnpython/wiki/index/ https://www.reddit.com › learnpython › wiki\n",
      "----------\n",
      "Best Python Programmers' Communities Online https://codeeasy.io/blog/best-python-programmers-communities-online https://codeeasy.io › blog › best-python-programmers-co...\n",
      "----------\n",
      "My favorite software subreddits | notes.eatonphil.com https://notes.eatonphil.com/high-quality-subreddits-you-should-be-following.html https://notes.eatonphil.com › high-quality-subreddits-you...\n",
      "----------\n",
      "Top Reddit communities for Devs and ITs: from beginners ... https://pvs-studio.com/en/blog/posts/1040/ https://pvs-studio.com › blog › posts\n",
      "----------\n",
      "What are some must-follow subreddits? https://www.quora.com/What-are-some-must-follow-subreddits 20+ answers\n",
      "----------\n",
      "reddit - How to extract the subreddits I am subscribed to ... https://stackoverflow.com/questions/72836125/how-to-extract-the-subreddits-i-am-subscribed-to-with-the-python-praw-library 1 answer · 3 years ago\n",
      "----------\n"
     ]
    }
   ],
   "source": [
    "for result in data.get('organic'):\n",
    "    # print(result.keys())\n",
    "    print(result.get('title'), result.get('link'), result.get(\"display_link\"))\n",
    "    print(\"-\" * 10)"
   ]
  }
 ],
 "metadata": {
  "kernelspec": {
   "display_name": "Python 3 (ipykernel)",
   "language": "python",
   "name": "python3"
  },
  "language_info": {
   "codemirror_mode": {
    "name": "ipython",
    "version": 3
   },
   "file_extension": ".py",
   "mimetype": "text/x-python",
   "name": "python",
   "nbconvert_exporter": "python",
   "pygments_lexer": "ipython3",
   "version": "3.13.3"
  }
 },
 "nbformat": 4,
 "nbformat_minor": 5
}
